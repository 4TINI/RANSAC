{
 "cells": [
  {
   "cell_type": "markdown",
   "metadata": {},
   "source": [
    "# RANSAC"
   ]
  },
  {
   "cell_type": "code",
   "execution_count": 25,
   "metadata": {},
   "outputs": [
    {
     "name": "stdout",
     "output_type": "stream",
     "text": [
      "This script will create a monochrome image (100X50) consisting of a random line and salt-pepper noise\n",
      "(50, 100, 1)\n",
      "Plotting a straight line....., \n"
     ]
    },
    {
     "data": {
      "text/plain": [
       "<matplotlib.image.AxesImage at 0x7f97daee68e0>"
      ]
     },
     "execution_count": 25,
     "metadata": {},
     "output_type": "execute_result"
    },
    {
     "data": {
      "image/png": "[encoded data removed]",
      "text/plain": [
       "<Figure size 640x480 with 1 Axes>"
      ]
     },
     "metadata": {},
     "output_type": "display_data"
    }
   ],
   "source": [
    "import numpy as np\n",
    "import os\n",
    "import skimage\n",
    "import random\n",
    "\n",
    "#\n",
    "#Plots the points on the line starting from start point and leading to end point\n",
    "#The points are written on to a ndarray that was originally a blank image\n",
    "#The caller must take responsibility for ensuring that end coordinate values do not exceed the dimensions of the array\n",
    "#\n",
    "def plot_line_2darray(np_array,x_start,y_start,x_end,y_end,num_points):\n",
    "    print(np_array.shape)\n",
    "    print(\"Plotting a straight line....., \")\n",
    "    xvalues = np.linspace(x_start, x_end, num_points)\n",
    "    yvalues=list()\n",
    "    slope=(y_end-y_start)/(x_end - x_start)\n",
    "    for index in range(0,len(xvalues)):\n",
    "            x=xvalues[index]\n",
    "            y=slope* (x-x_start) +y_start\n",
    "            # print(\"x=%f, y=%f\" % (x,y))\n",
    "            yvalues.append(y)\n",
    "            np_array[int(y)][int(x)][0]=0\n",
    "    return np_array\n",
    "\n",
    "\n",
    "#\n",
    "#Create blank image\n",
    "#\n",
    "img_back_color=255\n",
    "img_width=100\n",
    "img_height=50\n",
    "print(\"This script will create a monochrome image (100X50) consisting of a random line and salt-pepper noise\")\n",
    "img = np.zeros([img_height,img_width,1],dtype=np.uint8)\n",
    "img.fill(img_back_color)\n",
    "#\n",
    "#Generate Salt-Pepper noise\n",
    "#\n",
    "image_noisy=skimage.util.random_noise(img,mode=\"s&p\",rng=None, clip=True,salt_vs_pepper=0.2)\n",
    "#\n",
    "#Generate a straight line\n",
    "#\n",
    "num_points=30\n",
    "\n",
    "if (random.randint(0,1) == 0):\n",
    "    #generate a line starting from a random point at the bottom edge and going up to a random point on the top edge\n",
    "    start_x=random.random() * (img_width-1)\n",
    "    start_y=0\n",
    "    end_x=random.random() * (img_width-1)\n",
    "    end_y=img_height-1\n",
    "else:\n",
    "    #generate a line starting from a random point on the left edge and going up to a random point on the right edge\n",
    "    start_x=0\n",
    "    start_y=random.random() * (img_height-1)\n",
    "    end_x= img_width-1\n",
    "    end_y=random.random() * (img_height-1)\n",
    "    \n",
    "image_with_line=plot_line_2darray(image_noisy,start_x,start_y,end_x,end_y,num_points)\n",
    "image_result=np.squeeze(image_with_line)\n",
    "#\n",
    "#Save the image to disk\n",
    "#\n",
    "\n",
    "# folder_script=os.path.abspath('')\n",
    "# folder_results=os.path.join(folder_script,\".out/\")\n",
    "# count_of_files=len(os.listdir(folder_results))\n",
    "\n",
    "# filename=(\"NoisyImage%d.png\" % count_of_files)\n",
    "# file_result=os.path.join(folder_script,\".out/\",filename)\n",
    "\n",
    "skimage.io.imshow(image_result)\n",
    "# print(\"Image saved to fileL%s\" % (file_result))\n"
   ]
  },
  {
   "cell_type": "code",
   "execution_count": null,
   "metadata": {},
   "outputs": [],
   "source": []
  }
 ],
 "metadata": {
  "kernelspec": {
   "display_name": "Python 3",
   "language": "python",
   "name": "python3"
  },
  "language_info": {
   "codemirror_mode": {
    "name": "ipython",
    "version": 3
   },
   "file_extension": ".py",
   "mimetype": "text/x-python",
   "name": "python",
   "nbconvert_exporter": "python",
   "pygments_lexer": "ipython3",
   "version": "3.8.18"
  }
 },
 "nbformat": 4,
 "nbformat_minor": 2
}
